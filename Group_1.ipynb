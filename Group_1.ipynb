{
 "cells": [
  {
   "cell_type": "markdown",
   "metadata": {},
   "source": [
    "# PCLab#3 - Group 1 - Johannes, Petter, and Oskar"
   ]
  },
  {
   "cell_type": "markdown",
   "metadata": {
    "collapsed": false
   },
   "source": [
    "Big picture context\n",
    "- You’ve just been hired by a sophisticated hedge-fund\n",
    "- The hedge-fund manager is interested in Twitter’s predictive power\n",
    "- He asks you to perform sentiment analysis on a sample of recent financial tweets...\n",
    "- ... and to build a firm-level measure of media attention: that may be a great factor idea !\n",
    "\n",
    "Packages you may need\n",
    "- Among others: wordcloud, nltk.stem, nltk.corpus, nltk.tokenize, gensim, tensorflow, string.punctuation, sklearn, etc."
   ]
  },
  {
   "cell_type": "markdown",
   "metadata": {
    "collapsed": false
   },
   "source": [
    "## Task #1: Basic manipulation and descriptive statistics\n",
    "- Import the Data_PCLab3_Twitter_Stock_Sentiment.csv data and describe the sample (data available on BBoard)\n",
    "- How many tweets, how many words per tweets, distribution of number of words per tweets, average sentiment, etc."
   ]
  },
  {
   "cell_type": "markdown",
   "metadata": {
    "collapsed": false
   },
   "source": [
    "## Task #2 : Cleaning and visualization\n",
    "- Usual cleaning steps: remove punctuation, stopwords, short words, etc.\n",
    "- Try your cleaning on this sentence: $I love AI & Machine learning applied to Finance...!! ;)\n",
    "- Plot a word cloud for text with positive and negative sentiment separately • What is the number of unique words ?"
   ]
  },
  {
   "cell_type": "markdown",
   "metadata": {
    "collapsed": false
   },
   "source": [
    "## Task #3 : Sentment analysis\n",
    "If any of those steps are not crystal clear, please tell me now (or shoot me an email soon after the class)\n",
    "- More usual steps: Tokenizing the text and padding\n",
    "    - Tokenize: vectorize text corpus, transform text into numbers\n",
    "    - Padding: make all sentences the same lenght (fill with 0 short sentences)\n",
    "- Split the sample in a train / test dataset (test = 10% of the total sample)\n",
    "- Train model of your choice (RNN, LTSM, etc.) to predict the sentiment (1 or 0) on the test sample (you could use embedding layer to reduce the dimension of the problem)\n",
    "- Plot the confusion matrix and compute the accuracy score (e.g., with sklearn function accuracy)"
   ]
  },
  {
   "cell_type": "markdown",
   "metadata": {
    "collapsed": false
   },
   "source": [
    "\n",
    "## Task #4 : Sentment analysis - Optional\n",
    "- Use transformers (BERT from Huggingface) to perform another sentiment analysis and compare to the sentiment value in the data\n",
    "    - Use pipeline: from transformers import pipeline\n",
    "    - Use the already created library: text-classification or sentiment-analysis\n",
    "- What is the performance of the algorithm on financial tweets ? I.e., how does BERT classifies the Tweets compared to the original classification you have ?\n",
    "- Hint: check the Huggingface website\n",
    "- To go further: check FinBERT"
   ]
  },
  {
   "cell_type": "markdown",
   "metadata": {
    "collapsed": false
   },
   "source": [
    "## Task #5 : Measuring media attention\n",
    "- Use the list of tickers gathered during last PC Lab (see the web-scrapping part) to compute the number of tweets about each stock\n",
    "    - e.g., AAPL: 36 tweets, 12 negative, 24 positive\n",
    "- Rank the stocks by their amount of total media attention, positive and negative media attention\n",
    "- Optional: Using the stock prices data on our 8 stocks (or more from the web-scrapping task), do you see a correlation between media attention and excess return ?\n",
    "- If yes, could Twitter attention is likely to be a good factor ?"
   ]
  },
  {
   "cell_type": "code",
   "execution_count": null,
   "metadata": {
    "collapsed": false
   },
   "outputs": [],
   "source": []
  }
 ],
 "metadata": {
  "kernelspec": {
   "display_name": "Python 3 (ipykernel)",
   "language": "python",
   "name": "python3"
  },
  "language_info": {
   "name": "python"
  }
 },
 "nbformat": 4,
 "nbformat_minor": 2
}
